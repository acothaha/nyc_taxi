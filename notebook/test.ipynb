{
 "cells": [
  {
   "cell_type": "code",
   "execution_count": 73,
   "metadata": {},
   "outputs": [],
   "source": [
    "import requests\n",
    "import aco_lib"
   ]
  },
  {
   "cell_type": "code",
   "execution_count": 76,
   "metadata": {},
   "outputs": [
    {
     "data": {
      "text/plain": [
       "'green_tripdata_2020-01.csv.gz'"
      ]
     },
     "execution_count": 76,
     "metadata": {},
     "output_type": "execute_result"
    }
   ],
   "source": [
    "taxi_type = 'green'\n",
    "year = '2020'\n",
    "\n",
    "# download_file(f'https://github.com/DataTalksClub/nyc-tlc-data/releases/download/{taxi_type}/{taxi_type}_tripdata_{year}-01.csv.gz', f'data/raw/{taxi_type}/{year}')\n",
    "\n",
    "aco_lib.download_file(f'https://github.com/DataTalksClub/nyc-tlc-data/releases/download/{taxi_type}/{taxi_type}_tripdata_{year}-01.csv.gz', f'../data/raw/{taxi_type}/{year}')"
   ]
  },
  {
   "cell_type": "code",
   "execution_count": 77,
   "metadata": {},
   "outputs": [
    {
     "name": "stdout",
     "output_type": "stream",
     "text": [
      "green_tripdata_2020-01.csv.gz\n",
      "green_tripdata_2020-02.csv.gz\n",
      "green_tripdata_2020-03.csv.gz\n",
      "green_tripdata_2020-04.csv.gz\n",
      "green_tripdata_2020-05.csv.gz\n",
      "green_tripdata_2020-06.csv.gz\n",
      "green_tripdata_2020-07.csv.gz\n",
      "green_tripdata_2020-08.csv.gz\n",
      "green_tripdata_2020-09.csv.gz\n",
      "green_tripdata_2020-10.csv.gz\n",
      "green_tripdata_2020-11.csv.gz\n",
      "green_tripdata_2020-12.csv.gz\n",
      "yellow_tripdata_2020-01.csv.gz\n",
      "yellow_tripdata_2020-02.csv.gz\n",
      "yellow_tripdata_2020-03.csv.gz\n",
      "yellow_tripdata_2020-04.csv.gz\n",
      "yellow_tripdata_2020-05.csv.gz\n",
      "yellow_tripdata_2020-06.csv.gz\n",
      "yellow_tripdata_2020-07.csv.gz\n",
      "yellow_tripdata_2020-08.csv.gz\n",
      "yellow_tripdata_2020-09.csv.gz\n",
      "yellow_tripdata_2020-10.csv.gz\n",
      "yellow_tripdata_2020-11.csv.gz\n",
      "yellow_tripdata_2020-12.csv.gz\n"
     ]
    }
   ],
   "source": [
    "for taxi_type in ['green', 'yellow']:\n",
    "    for year in ['2020']:\n",
    "        for month in range(1,13):\n",
    "            fmonth = f'{month:02d}'\n",
    "\n",
    "            result = aco_lib.download_file(f'https://github.com/DataTalksClub/nyc-tlc-data/releases/download/{taxi_type}/{taxi_type}_tripdata_{year}-{fmonth}.csv.gz', f'../data/raw/{taxi_type}/{year}')\n",
    "\n",
    "            print(result)\n",
    "\n",
    "\n",
    "\n"
   ]
  }
 ],
 "metadata": {
  "kernelspec": {
   "display_name": "base",
   "language": "python",
   "name": "python3"
  },
  "language_info": {
   "codemirror_mode": {
    "name": "ipython",
    "version": 3
   },
   "file_extension": ".py",
   "mimetype": "text/x-python",
   "name": "python",
   "nbconvert_exporter": "python",
   "pygments_lexer": "ipython3",
   "version": "3.9.13"
  },
  "orig_nbformat": 4
 },
 "nbformat": 4,
 "nbformat_minor": 2
}
