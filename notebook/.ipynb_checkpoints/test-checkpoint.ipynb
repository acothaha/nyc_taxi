{
 "cells": [
  {
   "cell_type": "code",
   "execution_count": 10,
   "metadata": {},
   "outputs": [],
   "source": [
    "import requests\n",
    "import pandas as pd\n",
    "import aco_lib"
   ]
  },
  {
   "cell_type": "markdown",
   "metadata": {},
   "source": [
    "### Downloading Dataset "
   ]
  },
  {
   "cell_type": "code",
   "execution_count": 2,
   "metadata": {},
   "outputs": [
    {
     "data": {
      "text/plain": [
       "'green_tripdata_2020-01.csv.gz'"
      ]
     },
     "execution_count": 2,
     "metadata": {},
     "output_type": "execute_result"
    }
   ],
   "source": [
    "taxi_type = 'green'\n",
    "year = '2020'\n",
    "\n",
    "# download_file(f'https://github.com/DataTalksClub/nyc-tlc-data/releases/download/{taxi_type}/{taxi_type}_tripdata_{year}-01.csv.gz', f'data/raw/{taxi_type}/{year}')\n",
    "\n",
    "aco_lib.download_file(f'https://github.com/DataTalksClub/nyc-tlc-data/releases/download/{taxi_type}/{taxi_type}_tripdata_{year}-01.csv.gz', f'../data/raw/{taxi_type}/{year}')"
   ]
  },
  {
   "cell_type": "code",
   "execution_count": 3,
   "metadata": {
    "scrolled": true
   },
   "outputs": [
    {
     "name": "stdout",
     "output_type": "stream",
     "text": [
      "green_tripdata_2020-01.csv.gz\n",
      "green_tripdata_2020-02.csv.gz\n",
      "green_tripdata_2020-03.csv.gz\n",
      "green_tripdata_2020-04.csv.gz\n",
      "green_tripdata_2020-05.csv.gz\n",
      "green_tripdata_2020-06.csv.gz\n",
      "green_tripdata_2020-07.csv.gz\n",
      "green_tripdata_2020-08.csv.gz\n",
      "green_tripdata_2020-09.csv.gz\n",
      "green_tripdata_2020-10.csv.gz\n",
      "green_tripdata_2020-11.csv.gz\n",
      "green_tripdata_2020-12.csv.gz\n",
      "yellow_tripdata_2020-01.csv.gz\n",
      "yellow_tripdata_2020-02.csv.gz\n",
      "yellow_tripdata_2020-03.csv.gz\n",
      "yellow_tripdata_2020-04.csv.gz\n",
      "yellow_tripdata_2020-05.csv.gz\n",
      "yellow_tripdata_2020-06.csv.gz\n",
      "yellow_tripdata_2020-07.csv.gz\n",
      "yellow_tripdata_2020-08.csv.gz\n",
      "yellow_tripdata_2020-09.csv.gz\n",
      "yellow_tripdata_2020-10.csv.gz\n",
      "yellow_tripdata_2020-11.csv.gz\n",
      "yellow_tripdata_2020-12.csv.gz\n"
     ]
    }
   ],
   "source": [
    "for taxi_type in ['green', 'yellow']:\n",
    "    for year in ['2020']:\n",
    "        for month in range(1,13):\n",
    "            fmonth = f'{month:02d}'\n",
    "\n",
    "            result = aco_lib.download_file(f'https://github.com/DataTalksClub/nyc-tlc-data/releases/download/{taxi_type}/{taxi_type}_tripdata_{year}-{fmonth}.csv.gz', f'../data/raw/{taxi_type}/{year}')\n",
    "\n",
    "            print(result)\n"
   ]
  },
  {
   "cell_type": "markdown",
   "metadata": {},
   "source": [
    "### Importing pyspark"
   ]
  },
  {
   "cell_type": "code",
   "execution_count": 17,
   "metadata": {},
   "outputs": [],
   "source": [
    "import pyspark\n",
    "from pyspark.sql import SparkSession, types"
   ]
  },
  {
   "cell_type": "code",
   "execution_count": 2,
   "metadata": {},
   "outputs": [
    {
     "name": "stdout",
     "output_type": "stream",
     "text": [
      "23/07/11 13:10:24 WARN Utils: Your hostname, INTCOMP166 resolves to a loopback address: 127.0.1.1; using 172.22.239.222 instead (on interface eth0)\n",
      "23/07/11 13:10:24 WARN Utils: Set SPARK_LOCAL_IP if you need to bind to another address\n"
     ]
    },
    {
     "name": "stderr",
     "output_type": "stream",
     "text": [
      "Setting default log level to \"WARN\".\n",
      "To adjust logging level use sc.setLogLevel(newLevel). For SparkR, use setLogLevel(newLevel).\n"
     ]
    },
    {
     "name": "stdout",
     "output_type": "stream",
     "text": [
      "23/07/11 13:10:25 WARN NativeCodeLoader: Unable to load native-hadoop library for your platform... using builtin-java classes where applicable\n"
     ]
    }
   ],
   "source": [
    "spark = SparkSession.builder \\\n",
    "        .master('local[*]') \\\n",
    "        .appName('test') \\\n",
    "        .getOrCreate()"
   ]
  },
  {
   "cell_type": "markdown",
   "metadata": {},
   "source": [
    "### Reading csv files "
   ]
  },
  {
   "cell_type": "code",
   "execution_count": 4,
   "metadata": {},
   "outputs": [
    {
     "name": "stderr",
     "output_type": "stream",
     "text": [
      "\r",
      "[Stage 0:>                                                          (0 + 1) / 1]\r",
      "\r",
      "                                                                                \r"
     ]
    }
   ],
   "source": [
    "df = spark.read \\\n",
    "    .option('header', 'true') \\\n",
    "    .csv('../data/raw/green/2020/green_tripdata_2020-01.csv')"
   ]
  },
  {
   "cell_type": "code",
   "execution_count": 6,
   "metadata": {},
   "outputs": [
    {
     "name": "stdout",
     "output_type": "stream",
     "text": [
      "+--------+--------------------+---------------------+------------------+----------+------------+------------+---------------+-------------+-----------+-----+-------+----------+------------+---------+---------------------+------------+------------+---------+--------------------+\n",
      "|VendorID|lpep_pickup_datetime|lpep_dropoff_datetime|store_and_fwd_flag|RatecodeID|PULocationID|DOLocationID|passenger_count|trip_distance|fare_amount|extra|mta_tax|tip_amount|tolls_amount|ehail_fee|improvement_surcharge|total_amount|payment_type|trip_type|congestion_surcharge|\n",
      "+--------+--------------------+---------------------+------------------+----------+------------+------------+---------------+-------------+-----------+-----+-------+----------+------------+---------+---------------------+------------+------------+---------+--------------------+\n",
      "|       2| 2019-12-18 15:52:30|  2019-12-18 15:54:39|                 N|         1|         264|         264|              5|          .00|        3.5|  0.5|    0.5|      0.01|           0|     null|                  0.3|        4.81|           1|        1|                   0|\n",
      "|       2| 2020-01-01 00:45:58|  2020-01-01 00:56:39|                 N|         5|          66|          65|              2|         1.28|         20|    0|      0|      4.06|           0|     null|                  0.3|       24.36|           1|        2|                   0|\n",
      "|       2| 2020-01-01 00:41:38|  2020-01-01 00:52:49|                 N|         1|         181|         228|              1|         2.47|       10.5|  0.5|    0.5|      3.54|           0|     null|                  0.3|       15.34|           1|        1|                   0|\n",
      "|       1| 2020-01-01 00:52:46|  2020-01-01 01:14:21|                 N|         1|         129|         263|              2|         6.30|         21| 3.25|    0.5|         0|           0|     null|                  0.3|       25.05|           2|        1|                2.75|\n",
      "|       1| 2020-01-01 00:19:57|  2020-01-01 00:30:56|                 N|         1|         210|         150|              1|         2.30|         10|  0.5|    0.5|         0|           0|     null|                  0.3|        11.3|           1|        1|                   0|\n",
      "|       1| 2020-01-01 00:52:33|  2020-01-01 01:09:54|                 N|         1|          35|          39|              1|         3.00|       13.5|  0.5|    0.5|         0|           0|     null|                  0.3|        14.8|           1|        1|                   0|\n",
      "|       2| 2020-01-01 00:10:18|  2020-01-01 00:22:16|                 N|         1|          25|          61|              1|         2.77|         11|  0.5|    0.5|         0|           0|     null|                  0.3|        12.3|           2|        1|                   0|\n",
      "|       2| 2020-01-01 01:03:14|  2020-01-01 01:29:45|                 N|         1|         225|          89|              1|         4.98|       20.5|  0.5|    0.5|         0|           0|     null|                  0.3|        21.8|           2|        1|                   0|\n",
      "|       2| 2020-01-01 00:04:11|  2020-01-01 00:09:48|                 N|         1|         129|         129|              1|          .71|        5.5|  0.5|    0.5|         0|           0|     null|                  0.3|         6.8|           2|        1|                   0|\n",
      "|       2| 2020-01-01 00:25:52|  2020-01-01 00:32:16|                 N|         1|         129|          83|              1|          .80|        5.5|  0.5|    0.5|         0|           0|     null|                  0.3|         6.8|           2|        1|                   0|\n",
      "|       2| 2020-01-01 00:47:32|  2020-01-01 00:59:25|                 N|         1|          82|         173|              1|         1.52|        9.5|  0.5|    0.5|         0|           0|     null|                  0.3|        10.8|           2|        1|                   0|\n",
      "|       1| 2020-01-01 00:26:40|  2020-01-01 00:40:42|                 N|         1|          74|          69|              1|         3.80|         14|  0.5|    0.5|         0|           0|     null|                  0.3|        15.3|           2|        1|                   0|\n",
      "|       2| 2020-01-01 00:38:47|  2020-01-01 00:46:02|                 N|         1|          74|          41|              1|         1.12|        6.5|  0.5|    0.5|         0|           0|     null|                  0.3|         7.8|           1|        1|                   0|\n",
      "|       2| 2020-01-01 00:52:18|  2020-01-01 01:09:58|                 N|         1|          41|         127|              1|         5.67|         19|  0.5|    0.5|         0|           0|     null|                  0.3|        20.3|           2|        1|                   0|\n",
      "|       2| 2020-01-01 00:16:01|  2020-01-01 00:26:40|                 N|         1|           7|         260|              1|         1.86|        9.5|  0.5|    0.5|         0|           0|     null|                  0.3|        10.8|           2|        1|                   0|\n",
      "|       2| 2020-01-01 00:21:15|  2020-01-01 00:28:03|                 N|         1|           7|           7|              1|         1.42|          7|  0.5|    0.5|         0|           0|     null|                  0.3|         8.3|           2|        1|                   0|\n",
      "|       2| 2020-01-01 00:35:42|  2020-01-01 01:02:00|                 N|         1|           7|         133|              1|        15.48|         43|  0.5|    0.5|      8.86|           0|     null|                  0.3|       53.16|           1|        1|                   0|\n",
      "|       2| 2020-01-01 00:39:51|  2020-01-01 00:42:54|                 N|         1|         134|          28|              1|         1.15|        5.5|  0.5|    0.5|         1|           0|     null|                  0.3|         7.8|           1|        1|                   0|\n",
      "|       1| 2020-01-01 00:00:21|  2020-01-01 00:10:19|                 N|         1|          89|          39|              1|         2.30|         10|  0.5|    0.5|         0|           0|     null|                  0.3|        11.3|           2|        1|                   0|\n",
      "|       1| 2020-01-01 00:13:59|  2020-01-01 00:21:31|                 N|         1|          66|          65|              3|         1.00|        6.5|  0.5|    0.5|         0|           0|     null|                  0.3|         7.8|           2|        1|                   0|\n",
      "+--------+--------------------+---------------------+------------------+----------+------------+------------+---------------+-------------+-----------+-----+-------+----------+------------+---------+---------------------+------------+------------+---------+--------------------+\n",
      "only showing top 20 rows\n",
      "\n"
     ]
    }
   ],
   "source": [
    "df.show()"
   ]
  },
  {
   "cell_type": "code",
   "execution_count": 7,
   "metadata": {},
   "outputs": [
    {
     "name": "stdout",
     "output_type": "stream",
     "text": [
      "root\n",
      " |-- VendorID: string (nullable = true)\n",
      " |-- lpep_pickup_datetime: string (nullable = true)\n",
      " |-- lpep_dropoff_datetime: string (nullable = true)\n",
      " |-- store_and_fwd_flag: string (nullable = true)\n",
      " |-- RatecodeID: string (nullable = true)\n",
      " |-- PULocationID: string (nullable = true)\n",
      " |-- DOLocationID: string (nullable = true)\n",
      " |-- passenger_count: string (nullable = true)\n",
      " |-- trip_distance: string (nullable = true)\n",
      " |-- fare_amount: string (nullable = true)\n",
      " |-- extra: string (nullable = true)\n",
      " |-- mta_tax: string (nullable = true)\n",
      " |-- tip_amount: string (nullable = true)\n",
      " |-- tolls_amount: string (nullable = true)\n",
      " |-- ehail_fee: string (nullable = true)\n",
      " |-- improvement_surcharge: string (nullable = true)\n",
      " |-- total_amount: string (nullable = true)\n",
      " |-- payment_type: string (nullable = true)\n",
      " |-- trip_type: string (nullable = true)\n",
      " |-- congestion_surcharge: string (nullable = true)\n",
      "\n"
     ]
    }
   ],
   "source": [
    "df.printSchema()"
   ]
  },
  {
   "cell_type": "markdown",
   "metadata": {},
   "source": [
    "## Handling data type using pandas "
   ]
  },
  {
   "cell_type": "code",
   "execution_count": 14,
   "metadata": {},
   "outputs": [
    {
     "data": {
      "text/html": [
       "<div>\n",
       "<style scoped>\n",
       "    .dataframe tbody tr th:only-of-type {\n",
       "        vertical-align: middle;\n",
       "    }\n",
       "\n",
       "    .dataframe tbody tr th {\n",
       "        vertical-align: top;\n",
       "    }\n",
       "\n",
       "    .dataframe thead th {\n",
       "        text-align: right;\n",
       "    }\n",
       "</style>\n",
       "<table border=\"1\" class=\"dataframe\">\n",
       "  <thead>\n",
       "    <tr style=\"text-align: right;\">\n",
       "      <th></th>\n",
       "      <th>VendorID</th>\n",
       "      <th>lpep_pickup_datetime</th>\n",
       "      <th>lpep_dropoff_datetime</th>\n",
       "      <th>store_and_fwd_flag</th>\n",
       "      <th>RatecodeID</th>\n",
       "      <th>PULocationID</th>\n",
       "      <th>DOLocationID</th>\n",
       "      <th>passenger_count</th>\n",
       "      <th>trip_distance</th>\n",
       "      <th>fare_amount</th>\n",
       "      <th>extra</th>\n",
       "      <th>mta_tax</th>\n",
       "      <th>tip_amount</th>\n",
       "      <th>tolls_amount</th>\n",
       "      <th>ehail_fee</th>\n",
       "      <th>improvement_surcharge</th>\n",
       "      <th>total_amount</th>\n",
       "      <th>payment_type</th>\n",
       "      <th>trip_type</th>\n",
       "      <th>congestion_surcharge</th>\n",
       "    </tr>\n",
       "  </thead>\n",
       "  <tbody>\n",
       "    <tr>\n",
       "      <th>0</th>\n",
       "      <td>2</td>\n",
       "      <td>2019-12-18 15:52:30</td>\n",
       "      <td>2019-12-18 15:54:39</td>\n",
       "      <td>N</td>\n",
       "      <td>1</td>\n",
       "      <td>264</td>\n",
       "      <td>264</td>\n",
       "      <td>5</td>\n",
       "      <td>0.00</td>\n",
       "      <td>3.5</td>\n",
       "      <td>0.50</td>\n",
       "      <td>0.5</td>\n",
       "      <td>0.01</td>\n",
       "      <td>0.0</td>\n",
       "      <td>NaN</td>\n",
       "      <td>0.3</td>\n",
       "      <td>4.81</td>\n",
       "      <td>1</td>\n",
       "      <td>1</td>\n",
       "      <td>0.00</td>\n",
       "    </tr>\n",
       "    <tr>\n",
       "      <th>1</th>\n",
       "      <td>2</td>\n",
       "      <td>2020-01-01 00:45:58</td>\n",
       "      <td>2020-01-01 00:56:39</td>\n",
       "      <td>N</td>\n",
       "      <td>5</td>\n",
       "      <td>66</td>\n",
       "      <td>65</td>\n",
       "      <td>2</td>\n",
       "      <td>1.28</td>\n",
       "      <td>20.0</td>\n",
       "      <td>0.00</td>\n",
       "      <td>0.0</td>\n",
       "      <td>4.06</td>\n",
       "      <td>0.0</td>\n",
       "      <td>NaN</td>\n",
       "      <td>0.3</td>\n",
       "      <td>24.36</td>\n",
       "      <td>1</td>\n",
       "      <td>2</td>\n",
       "      <td>0.00</td>\n",
       "    </tr>\n",
       "    <tr>\n",
       "      <th>2</th>\n",
       "      <td>2</td>\n",
       "      <td>2020-01-01 00:41:38</td>\n",
       "      <td>2020-01-01 00:52:49</td>\n",
       "      <td>N</td>\n",
       "      <td>1</td>\n",
       "      <td>181</td>\n",
       "      <td>228</td>\n",
       "      <td>1</td>\n",
       "      <td>2.47</td>\n",
       "      <td>10.5</td>\n",
       "      <td>0.50</td>\n",
       "      <td>0.5</td>\n",
       "      <td>3.54</td>\n",
       "      <td>0.0</td>\n",
       "      <td>NaN</td>\n",
       "      <td>0.3</td>\n",
       "      <td>15.34</td>\n",
       "      <td>1</td>\n",
       "      <td>1</td>\n",
       "      <td>0.00</td>\n",
       "    </tr>\n",
       "    <tr>\n",
       "      <th>3</th>\n",
       "      <td>1</td>\n",
       "      <td>2020-01-01 00:52:46</td>\n",
       "      <td>2020-01-01 01:14:21</td>\n",
       "      <td>N</td>\n",
       "      <td>1</td>\n",
       "      <td>129</td>\n",
       "      <td>263</td>\n",
       "      <td>2</td>\n",
       "      <td>6.30</td>\n",
       "      <td>21.0</td>\n",
       "      <td>3.25</td>\n",
       "      <td>0.5</td>\n",
       "      <td>0.00</td>\n",
       "      <td>0.0</td>\n",
       "      <td>NaN</td>\n",
       "      <td>0.3</td>\n",
       "      <td>25.05</td>\n",
       "      <td>2</td>\n",
       "      <td>1</td>\n",
       "      <td>2.75</td>\n",
       "    </tr>\n",
       "    <tr>\n",
       "      <th>4</th>\n",
       "      <td>1</td>\n",
       "      <td>2020-01-01 00:19:57</td>\n",
       "      <td>2020-01-01 00:30:56</td>\n",
       "      <td>N</td>\n",
       "      <td>1</td>\n",
       "      <td>210</td>\n",
       "      <td>150</td>\n",
       "      <td>1</td>\n",
       "      <td>2.30</td>\n",
       "      <td>10.0</td>\n",
       "      <td>0.50</td>\n",
       "      <td>0.5</td>\n",
       "      <td>0.00</td>\n",
       "      <td>0.0</td>\n",
       "      <td>NaN</td>\n",
       "      <td>0.3</td>\n",
       "      <td>11.30</td>\n",
       "      <td>1</td>\n",
       "      <td>1</td>\n",
       "      <td>0.00</td>\n",
       "    </tr>\n",
       "  </tbody>\n",
       "</table>\n",
       "</div>"
      ],
      "text/plain": [
       "   VendorID lpep_pickup_datetime lpep_dropoff_datetime store_and_fwd_flag  \\\n",
       "0         2  2019-12-18 15:52:30   2019-12-18 15:54:39                  N   \n",
       "1         2  2020-01-01 00:45:58   2020-01-01 00:56:39                  N   \n",
       "2         2  2020-01-01 00:41:38   2020-01-01 00:52:49                  N   \n",
       "3         1  2020-01-01 00:52:46   2020-01-01 01:14:21                  N   \n",
       "4         1  2020-01-01 00:19:57   2020-01-01 00:30:56                  N   \n",
       "\n",
       "   RatecodeID  PULocationID  DOLocationID  passenger_count  trip_distance  \\\n",
       "0           1           264           264                5           0.00   \n",
       "1           5            66            65                2           1.28   \n",
       "2           1           181           228                1           2.47   \n",
       "3           1           129           263                2           6.30   \n",
       "4           1           210           150                1           2.30   \n",
       "\n",
       "   fare_amount  extra  mta_tax  tip_amount  tolls_amount  ehail_fee  \\\n",
       "0          3.5   0.50      0.5        0.01           0.0        NaN   \n",
       "1         20.0   0.00      0.0        4.06           0.0        NaN   \n",
       "2         10.5   0.50      0.5        3.54           0.0        NaN   \n",
       "3         21.0   3.25      0.5        0.00           0.0        NaN   \n",
       "4         10.0   0.50      0.5        0.00           0.0        NaN   \n",
       "\n",
       "   improvement_surcharge  total_amount  payment_type  trip_type  \\\n",
       "0                    0.3          4.81             1          1   \n",
       "1                    0.3         24.36             1          2   \n",
       "2                    0.3         15.34             1          1   \n",
       "3                    0.3         25.05             2          1   \n",
       "4                    0.3         11.30             1          1   \n",
       "\n",
       "   congestion_surcharge  \n",
       "0                  0.00  \n",
       "1                  0.00  \n",
       "2                  0.00  \n",
       "3                  2.75  \n",
       "4                  0.00  "
      ]
     },
     "execution_count": 14,
     "metadata": {},
     "output_type": "execute_result"
    }
   ],
   "source": [
    "df_pandas = pd.read_csv('../data/raw/green/2020/green_tripdata_2020-01.csv', nrows=1000)\n",
    "df_pandas.head()"
   ]
  },
  {
   "cell_type": "code",
   "execution_count": 15,
   "metadata": {},
   "outputs": [
    {
     "name": "stderr",
     "output_type": "stream",
     "text": [
      "/home/aco/spark/spark-3.3.2-bin-hadoop3/python/pyspark/sql/pandas/conversion.py:474: FutureWarning: iteritems is deprecated and will be removed in a future version. Use .items instead.\n",
      "  for column, series in pdf.iteritems():\n",
      "/home/aco/spark/spark-3.3.2-bin-hadoop3/python/pyspark/sql/pandas/conversion.py:486: FutureWarning: iteritems is deprecated and will be removed in a future version. Use .items instead.\n",
      "  for column, series in pdf.iteritems():\n"
     ]
    },
    {
     "data": {
      "text/plain": [
       "StructType([StructField('VendorID', LongType(), True), StructField('lpep_pickup_datetime', StringType(), True), StructField('lpep_dropoff_datetime', StringType(), True), StructField('store_and_fwd_flag', StringType(), True), StructField('RatecodeID', LongType(), True), StructField('PULocationID', LongType(), True), StructField('DOLocationID', LongType(), True), StructField('passenger_count', LongType(), True), StructField('trip_distance', DoubleType(), True), StructField('fare_amount', DoubleType(), True), StructField('extra', DoubleType(), True), StructField('mta_tax', DoubleType(), True), StructField('tip_amount', DoubleType(), True), StructField('tolls_amount', DoubleType(), True), StructField('ehail_fee', DoubleType(), True), StructField('improvement_surcharge', DoubleType(), True), StructField('total_amount', DoubleType(), True), StructField('payment_type', LongType(), True), StructField('trip_type', LongType(), True), StructField('congestion_surcharge', DoubleType(), True)])"
      ]
     },
     "execution_count": 15,
     "metadata": {},
     "output_type": "execute_result"
    }
   ],
   "source": [
    "spark.createDataFrame(df_pandas).schema"
   ]
  },
  {
   "cell_type": "code",
   "execution_count": 19,
   "metadata": {},
   "outputs": [
    {
     "ename": "SyntaxError",
     "evalue": "invalid syntax (3123831001.py, line 2)",
     "output_type": "error",
     "traceback": [
      "\u001b[0;36m  Cell \u001b[0;32mIn[19], line 2\u001b[0;36m\u001b[0m\n\u001b[0;31m    types.StructField('VendorID', .types.IntegerType(), True),\u001b[0m\n\u001b[0m                                  ^\u001b[0m\n\u001b[0;31mSyntaxError\u001b[0m\u001b[0;31m:\u001b[0m invalid syntax\n"
     ]
    }
   ],
   "source": [
    "schema = types.StructType([\n",
    "    types.StructField('VendorID', types.IntegerType(), True), \n",
    "    types.StructField('lpep_pickup_datetime', types.TimestampType(), True), \n",
    "    types.StructField('lpep_dropoff_datetime', types.TimestampType(), True), \n",
    "    types.StructField('store_and_fwd_flag', StringType(), True), \n",
    "    types.StructField('RatecodeID', types.IntegerType(), True), \n",
    "    types.StructField('PULocationID', types.IntegerType(), True), \n",
    "    types.StructField('DOLocationID', types.IntegerType(), True), \n",
    "    types.StructField('passenger_count', types.IntegerType(), True), \n",
    "    types.StructField('trip_distance', types.DoubleType(), True), \n",
    "    types.StructField('fare_amount', types.DoubleType(), True), \n",
    "    types.StructField('extra', types.DoubleType(), True), \n",
    "    types.StructField('mta_tax', types.DoubleType(), True), \n",
    "    types.StructField('tip_amount', types.DoubleType(), True), \n",
    "    types.StructField('tolls_amount', types.DoubleType(), True), \n",
    "    types.StructField('ehail_fee', types.DoubleType(), True), \n",
    "    types.StructField('improvement_surcharge', types.DoubleType(), True), \n",
    "    types.StructField('total_amount', types.DoubleType(), True), \n",
    "    types.StructField('payment_type', types.IntegerType(), True), \n",
    "    types.StructField('trip_type', types.IntegerType(), True), \n",
    "    types.StructField('congestion_surcharge', types.DoubleType(), True)])"
   ]
  }
 ],
 "metadata": {
  "kernelspec": {
   "display_name": "Python 3 (ipykernel)",
   "language": "python",
   "name": "python3"
  },
  "language_info": {
   "codemirror_mode": {
    "name": "ipython",
    "version": 3
   },
   "file_extension": ".py",
   "mimetype": "text/x-python",
   "name": "python",
   "nbconvert_exporter": "python",
   "pygments_lexer": "ipython3",
   "version": "3.10.9"
  }
 },
 "nbformat": 4,
 "nbformat_minor": 2
}
